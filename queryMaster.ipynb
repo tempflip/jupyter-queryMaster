{
 "cells": [
  {
   "cell_type": "markdown",
   "metadata": {
    "deletable": true,
    "editable": true
   },
   "source": [
    "# Jupyter QueryMaster"
   ]
  },
  {
   "cell_type": "code",
   "execution_count": 76,
   "metadata": {
    "collapsed": false,
    "deletable": true,
    "editable": true
   },
   "outputs": [],
   "source": [
    "import requests\n",
    "import json"
   ]
  },
  {
   "cell_type": "code",
   "execution_count": 77,
   "metadata": {
    "collapsed": false,
    "deletable": true,
    "editable": true
   },
   "outputs": [],
   "source": [
    "# get the oAuth token\n",
    "\n",
    "OAUTH_LOGIN_URL = 'https://test.salesforce.com/services/oauth2/token'\n",
    "CLIENT_ID = '3MVG9szVa2RxsqBaVMAZFSLdWv5BZvhnb15ChwBZzbVVyb_u9j08M.xnlQ5Ly15mI6KZfVRTsjTQSMsY27rDT'\n",
    "CLIENT_SECRET = '5979639566859185104'\n",
    "USERNAME = 'blackthorn@prismhr.test'\n",
    "PASSWORD = '2P0kf3FLMu22YkFTJCMcH0VXkFgV7C17Eu6dG'"
   ]
  },
  {
   "cell_type": "code",
   "execution_count": 78,
   "metadata": {
    "collapsed": false,
    "deletable": true,
    "editable": true
   },
   "outputs": [
    {
     "data": {
      "text/plain": [
       "<Response [200]>"
      ]
     },
     "execution_count": 78,
     "metadata": {},
     "output_type": "execute_result"
    }
   ],
   "source": [
    "d = {'grant_type' : 'password',\n",
    "    'client_id' : CLIENT_ID,\n",
    "    'client_secret' : CLIENT_SECRET,\n",
    "     'username' : USERNAME,\n",
    "     'password' : PASSWORD\n",
    "    }\n",
    "\n",
    "r = requests.post(OAUTH_LOGIN_URL, \n",
    "                  data = d)\n",
    "r ## if 200 than good"
   ]
  },
  {
   "cell_type": "code",
   "execution_count": 79,
   "metadata": {
    "collapsed": false,
    "deletable": true,
    "editable": true
   },
   "outputs": [],
   "source": [
    "response_map = json.loads(r.text)\n",
    "acccess_token = response_map['access_token']\n",
    "instance_url = response_map['instance_url']"
   ]
  },
  {
   "cell_type": "code",
   "execution_count": 80,
   "metadata": {
    "collapsed": false,
    "deletable": true,
    "editable": true
   },
   "outputs": [
    {
     "data": {
      "text/plain": [
       "<Response [200]>"
      ]
     },
     "execution_count": 80,
     "metadata": {},
     "output_type": "execute_result"
    }
   ],
   "source": [
    "Q = \"SELECT Name, Product__c, billing360__Lower_Tier__c, billing360__Upper_Tier__c, billing360__Type__c, billing360__Price__c FROM billing360__Tiered_Price__c WHERE Product__c = '01t3D0000012VR2'\"\n",
    "\n",
    "headers = {'Authorization' : 'Bearer ' + acccess_token,\n",
    "           'Content-Type' : 'application/json'\n",
    "          }\n",
    "\n",
    "r = requests.get(instance_url + '/services/data/v41.0/query/?q=' + Q,\n",
    "                headers = headers)\n",
    "r ## if 200 than good"
   ]
  },
  {
   "cell_type": "code",
   "execution_count": 81,
   "metadata": {
    "collapsed": false,
    "deletable": true,
    "editable": true
   },
   "outputs": [],
   "source": [
    "soql_response = json.loads(r.text)\n",
    "records = soql_response['records']"
   ]
  },
  {
   "cell_type": "code",
   "execution_count": 82,
   "metadata": {
    "collapsed": false,
    "deletable": true,
    "editable": true
   },
   "outputs": [
    {
     "name": "stdout",
     "output_type": "stream",
     "text": [
      "Is it all? True , of total 3\n"
     ]
    }
   ],
   "source": [
    "print('Is it all?' , soql_response['done'], ', of total', soql_response['totalSize'])"
   ]
  },
  {
   "cell_type": "code",
   "execution_count": 83,
   "metadata": {
    "collapsed": false,
    "deletable": true,
    "editable": true
   },
   "outputs": [
    {
     "name": "stdout",
     "output_type": "stream",
     "text": [
      "{'billing360__Type__c': 'Tiered', 'billing360__Price__c': 0.6, 'billing360__Lower_Tier__c': 1001.0, 'Name': '1001-2000', 'Product__c': '01t3D0000012VR2QAM', 'billing360__Upper_Tier__c': 2000.0, 'attributes': {'url': '/services/data/v41.0/sobjects/billing360__Tiered_Price__c/a7U3D0000004CUBUA2', 'type': 'billing360__Tiered_Price__c'}}\n",
      "{'billing360__Type__c': 'Tiered', 'billing360__Price__c': 0.5, 'billing360__Lower_Tier__c': 2001.0, 'Name': '2001-5000', 'Product__c': '01t3D0000012VR2QAM', 'billing360__Upper_Tier__c': 5000.0, 'attributes': {'url': '/services/data/v41.0/sobjects/billing360__Tiered_Price__c/a7U3D0000004CUGUA2', 'type': 'billing360__Tiered_Price__c'}}\n",
      "{'billing360__Type__c': 'Tiered', 'billing360__Price__c': 0.75, 'billing360__Lower_Tier__c': 1.0, 'Name': '1-1000', 'Product__c': '01t3D0000012VR2QAM', 'billing360__Upper_Tier__c': 1000.0, 'attributes': {'url': '/services/data/v41.0/sobjects/billing360__Tiered_Price__c/a7U3D0000004CULUA2', 'type': 'billing360__Tiered_Price__c'}}\n"
     ]
    }
   ],
   "source": [
    "for record in records:\n",
    "    print(record)"
   ]
  },
  {
   "cell_type": "code",
   "execution_count": 91,
   "metadata": {
    "collapsed": false,
    "deletable": true,
    "editable": true
   },
   "outputs": [],
   "source": [
    "def insert_record(instance_url, objectType, acccess_token, body):\n",
    "    \n",
    "    headers = {'Authorization' : 'Bearer ' + acccess_token,\n",
    "           'Content-Type' : 'application/json'\n",
    "          }\n",
    "\n",
    "    r = requests.post(instance_url + '/services/data/v41.0/sobjects/' + objectType + '/',\n",
    "                 headers = headers,\n",
    "                 data = json.dumps(body))\n",
    "    \n",
    "    return r\n",
    "\n"
   ]
  },
  {
   "cell_type": "code",
   "execution_count": null,
   "metadata": {
    "collapsed": false
   },
   "outputs": [],
   "source": [
    "r = insert_record(instance_url, 'Account', acccess_token, {'Name' : 'maki mu'})"
   ]
  },
  {
   "cell_type": "code",
   "execution_count": null,
   "metadata": {
    "collapsed": false
   },
   "outputs": [],
   "source": [
    "r"
   ]
  },
  {
   "cell_type": "code",
   "execution_count": null,
   "metadata": {
    "collapsed": true
   },
   "outputs": [],
   "source": []
  }
 ],
 "metadata": {
  "kernelspec": {
   "display_name": "Python 3",
   "language": "python",
   "name": "python3"
  },
  "language_info": {
   "codemirror_mode": {
    "name": "ipython",
    "version": 3
   },
   "file_extension": ".py",
   "mimetype": "text/x-python",
   "name": "python",
   "nbconvert_exporter": "python",
   "pygments_lexer": "ipython3",
   "version": "3.5.2"
  },
  "widgets": {
   "state": {},
   "version": "1.1.2"
  }
 },
 "nbformat": 4,
 "nbformat_minor": 2
}
