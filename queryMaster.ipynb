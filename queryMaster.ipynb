{
 "cells": [
  {
   "cell_type": "markdown",
   "metadata": {
    "deletable": true,
    "editable": true
   },
   "source": [
    "# Jupyter QueryMaster"
   ]
  },
  {
   "cell_type": "code",
   "execution_count": 18,
   "metadata": {
    "collapsed": false,
    "deletable": true,
    "editable": true
   },
   "outputs": [],
   "source": [
    "import requests\n",
    "import json"
   ]
  },
  {
   "cell_type": "code",
   "execution_count": 19,
   "metadata": {
    "collapsed": true,
    "deletable": true,
    "editable": true
   },
   "outputs": [],
   "source": [
    "def soql_query(instance_url, acccess_token, q):\n",
    "\n",
    "    headers = {'Authorization' : 'Bearer ' + acccess_token,\n",
    "               'Content-Type' : 'application/json'\n",
    "              }\n",
    "    \n",
    "    r = requests.get(instance_url + '/services/data/v41.0/query/?q=' + q,\n",
    "                    headers = headers)\n",
    "\n",
    "    \n",
    "    soql_response = json.loads(r.text)\n",
    "    records = soql_response['records']\n",
    "    print('Is it all?' , soql_response['done'], ', of total', soql_response['totalSize'])    \n",
    "    return soql_response"
   ]
  },
  {
   "cell_type": "code",
   "execution_count": 20,
   "metadata": {
    "collapsed": false,
    "deletable": true,
    "editable": true
   },
   "outputs": [],
   "source": [
    "def insert_record(instance_url, objectType, acccess_token, body):\n",
    "    \n",
    "    headers = {'Authorization' : 'Bearer ' + acccess_token,\n",
    "           'Content-Type' : 'application/json'\n",
    "          }\n",
    "\n",
    "    r = requests.post(instance_url + '/services/data/v41.0/sobjects/' + objectType + '/',\n",
    "                 headers = headers,\n",
    "                 data = json.dumps(body))\n",
    "    \n",
    "    return json.loads(r.text)\n",
    "\n"
   ]
  },
  {
   "cell_type": "code",
   "execution_count": 21,
   "metadata": {
    "collapsed": false,
    "deletable": true,
    "editable": true
   },
   "outputs": [],
   "source": [
    "def get_oauth_token(OAUTH_LOGIN_URL, CLIENT_ID, CLIENT_SECRET, USERNAME, PASSWORD):\n",
    "    d = {'grant_type' : 'password',\n",
    "        'client_id' : CLIENT_ID,\n",
    "        'client_secret' : CLIENT_SECRET,\n",
    "         'username' : USERNAME,\n",
    "         'password' : PASSWORD\n",
    "        }\n",
    "\n",
    "    r = requests.post(OAUTH_LOGIN_URL, \n",
    "                      data = d)\n",
    "\n",
    "    response_map = json.loads(r.text)\n",
    "    acccess_token = response_map['access_token']\n",
    "    instance_url = response_map['instance_url']\n",
    "\n",
    "    return acccess_token, instance_url"
   ]
  },
  {
   "cell_type": "code",
   "execution_count": 22,
   "metadata": {
    "collapsed": false,
    "deletable": true,
    "editable": true
   },
   "outputs": [],
   "source": [
    "# get the oAuth token\n",
    "\n",
    "OAUTH_LOGIN_URL = 'https://test.salesforce.com/services/oauth2/token'\n",
    "CLIENT_ID = '3MVG9szVa2RxsqBaVMAZFSLdWv5BZvhnb15ChwBZzbVVyb_u9j08M.xnlQ5Ly15mI6KZfVRTsjTQSMsY27rDT'\n",
    "CLIENT_SECRET = '5979639566859185104'\n",
    "USERNAME = 'blackthorn@prismhr.test'\n",
    "PASSWORD = '2P0kf3FLMu22YkFTJCMcH0VXkFgV7C17Eu6dG'"
   ]
  },
  {
   "cell_type": "code",
   "execution_count": 23,
   "metadata": {
    "collapsed": false,
    "deletable": true,
    "editable": true
   },
   "outputs": [
    {
     "data": {
      "text/plain": [
       "'00D3D0000000TFV!AQ4AQIPMD5b.KxVJXfaT1qtvpzgU2D8to0uzwth6ZTq._COk1ToB_.ZRcQZrZinGQTvzixNRNMNU.JxCfjTV4Ty46b6wvOnq'"
      ]
     },
     "execution_count": 23,
     "metadata": {},
     "output_type": "execute_result"
    }
   ],
   "source": [
    "acccess_token, instance_url = get_oauth_token(OAUTH_LOGIN_URL, CLIENT_ID, CLIENT_SECRET, USERNAME, PASSWORD)\n",
    "acccess_token"
   ]
  },
  {
   "cell_type": "code",
   "execution_count": 28,
   "metadata": {
    "collapsed": false,
    "deletable": true,
    "editable": true
   },
   "outputs": [
    {
     "name": "stdout",
     "output_type": "stream",
     "text": [
      "Is it all? True , of total 3\n",
      "tier ok a8D3D00000002wiUAA\n",
      "tier ok a8D3D00000002wnUAA\n",
      "tier ok a8D3D00000002wsUAA\n"
     ]
    }
   ],
   "source": [
    "## convertint the tiered prices to tiers\n",
    "productId = '01t3D0000012VR2';\n",
    "\n",
    "Q = \"SELECT Name, Product__c, billing360__Lower_Tier__c, billing360__Upper_Tier__c, billing360__Type__c, billing360__Price__c FROM billing360__Tiered_Price__c WHERE Product__c = '\" + productId + \"'\"\n",
    "tieredPriceList = soql_query(instance_url, acccess_token, Q)['records']\n",
    "\n",
    "ppBody = {'Product__c' : productId,\n",
    "       'Name' : 'pp for prod : ' + productId,\n",
    "       'billing360__Currency_ISO__c' : 'USD',\n",
    "       'billing360__Default__c' : True,\n",
    "       'billing360__Active__c' : True}\n",
    "\n",
    "pp = insert_record(instance_url, 'billing360__Price_Plan__c',acccess_token, ppBody)\n",
    "\n",
    "for tieredPrice in tieredPriceList:\n",
    "    tierBody = {\n",
    "        'Name' : tieredPrice['Name'],\n",
    "        'billing360__Lower_Tier__c' : tieredPrice['billing360__Lower_Tier__c'],\n",
    "        'billing360__Upper_Tier__c' : tieredPrice['billing360__Upper_Tier__c'],\n",
    "        'billing360__Price_Plan__c' : pp['id'],\n",
    "        'billing360__Type__c' : tieredPrice['billing360__Type__c']\n",
    "    }\n",
    "    \n",
    "    tier = insert_record(instance_url, 'billing360__Tier__c',acccess_token, tierBody)\n",
    "    print('tier ok', tier['id'])"
   ]
  },
  {
   "cell_type": "code",
   "execution_count": null,
   "metadata": {
    "collapsed": true,
    "deletable": true,
    "editable": true
   },
   "outputs": [],
   "source": []
  }
 ],
 "metadata": {
  "kernelspec": {
   "display_name": "Python 3",
   "language": "python",
   "name": "python3"
  },
  "language_info": {
   "codemirror_mode": {
    "name": "ipython",
    "version": 3
   },
   "file_extension": ".py",
   "mimetype": "text/x-python",
   "name": "python",
   "nbconvert_exporter": "python",
   "pygments_lexer": "ipython3",
   "version": "3.5.2"
  },
  "widgets": {
   "state": {},
   "version": "1.1.2"
  }
 },
 "nbformat": 4,
 "nbformat_minor": 2
}
