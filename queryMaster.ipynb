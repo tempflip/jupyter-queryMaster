{
 "cells": [
  {
   "cell_type": "markdown",
   "metadata": {
    "deletable": true,
    "editable": true
   },
   "source": [
    "# Jupyter QueryMaster"
   ]
  },
  {
   "cell_type": "code",
   "execution_count": 106,
   "metadata": {
    "collapsed": false,
    "deletable": true,
    "editable": true
   },
   "outputs": [],
   "source": [
    "import requests\n",
    "import json"
   ]
  },
  {
   "cell_type": "code",
   "execution_count": 120,
   "metadata": {
    "collapsed": true
   },
   "outputs": [],
   "source": [
    "def soql_query(instance_url, acccess_token, q):\n",
    "\n",
    "    headers = {'Authorization' : 'Bearer ' + acccess_token,\n",
    "               'Content-Type' : 'application/json'\n",
    "              }\n",
    "    \n",
    "    r = requests.get(instance_url + '/services/data/v41.0/query/?q=' + q,\n",
    "                    headers = headers)\n",
    "\n",
    "    \n",
    "    soql_response = json.loads(r.text)\n",
    "    records = soql_response['records']\n",
    "    print('Is it all?' , soql_response['done'], ', of total', soql_response['totalSize'])    \n",
    "    return soql_response"
   ]
  },
  {
   "cell_type": "code",
   "execution_count": 111,
   "metadata": {
    "collapsed": false,
    "deletable": true,
    "editable": true
   },
   "outputs": [],
   "source": [
    "def insert_record(instance_url, objectType, acccess_token, body):\n",
    "    \n",
    "    headers = {'Authorization' : 'Bearer ' + acccess_token,\n",
    "           'Content-Type' : 'application/json'\n",
    "          }\n",
    "\n",
    "    r = requests.post(instance_url + '/services/data/v41.0/sobjects/' + objectType + '/',\n",
    "                 headers = headers,\n",
    "                 data = json.dumps(body))\n",
    "    \n",
    "    return r\n",
    "\n"
   ]
  },
  {
   "cell_type": "code",
   "execution_count": 112,
   "metadata": {
    "collapsed": false,
    "deletable": true,
    "editable": true
   },
   "outputs": [],
   "source": [
    "def get_oauth_token(OAUTH_LOGIN_URL, CLIENT_ID, CLIENT_SECRET, USERNAME, PASSWORD):\n",
    "    d = {'grant_type' : 'password',\n",
    "        'client_id' : CLIENT_ID,\n",
    "        'client_secret' : CLIENT_SECRET,\n",
    "         'username' : USERNAME,\n",
    "         'password' : PASSWORD\n",
    "        }\n",
    "\n",
    "    r = requests.post(OAUTH_LOGIN_URL, \n",
    "                      data = d)\n",
    "\n",
    "    response_map = json.loads(r.text)\n",
    "    acccess_token = response_map['access_token']\n",
    "    instance_url = response_map['instance_url']\n",
    "\n",
    "    return acccess_token, instance_url"
   ]
  },
  {
   "cell_type": "code",
   "execution_count": 113,
   "metadata": {
    "collapsed": false,
    "deletable": true,
    "editable": true
   },
   "outputs": [],
   "source": [
    "# get the oAuth token\n",
    "\n",
    "OAUTH_LOGIN_URL = 'https://test.salesforce.com/services/oauth2/token'\n",
    "CLIENT_ID = '3MVG9szVa2RxsqBaVMAZFSLdWv5BZvhnb15ChwBZzbVVyb_u9j08M.xnlQ5Ly15mI6KZfVRTsjTQSMsY27rDT'\n",
    "CLIENT_SECRET = '5979639566859185104'\n",
    "USERNAME = 'blackthorn@prismhr.test'\n",
    "PASSWORD = '2P0kf3FLMu22YkFTJCMcH0VXkFgV7C17Eu6dG'"
   ]
  },
  {
   "cell_type": "code",
   "execution_count": 115,
   "metadata": {
    "collapsed": false,
    "deletable": true,
    "editable": true
   },
   "outputs": [
    {
     "data": {
      "text/plain": [
       "'00D3D0000000TFV!AQ4AQPLbNL0KTi2RrC75UlUdkQhlvr_nOlrjWT8LSo3TeMb9_40oJ7PpvATIjZ_lc1rGnt8c79QzgpaFIi7dli9vh6MWTAjl'"
      ]
     },
     "execution_count": 115,
     "metadata": {},
     "output_type": "execute_result"
    }
   ],
   "source": [
    "acccess_token, instance_url = get_oauth_token(OAUTH_LOGIN_URL, CLIENT_ID, CLIENT_SECRET, USERNAME, PASSWORD)\n",
    "acccess_token"
   ]
  },
  {
   "cell_type": "code",
   "execution_count": 121,
   "metadata": {
    "collapsed": false,
    "deletable": true,
    "editable": true
   },
   "outputs": [
    {
     "name": "stdout",
     "output_type": "stream",
     "text": [
      "Is it all? True , of total 3\n"
     ]
    }
   ],
   "source": [
    "Q = \"SELECT Name, Product__c, billing360__Lower_Tier__c, billing360__Upper_Tier__c, billing360__Type__c, billing360__Price__c FROM billing360__Tiered_Price__c WHERE Product__c = '01t3D0000012VR2'\"\n",
    "records = soql_query(instance_url, acccess_token, Q)['records']"
   ]
  },
  {
   "cell_type": "code",
   "execution_count": 83,
   "metadata": {
    "collapsed": false,
    "deletable": true,
    "editable": true
   },
   "outputs": [
    {
     "name": "stdout",
     "output_type": "stream",
     "text": [
      "{'billing360__Type__c': 'Tiered', 'billing360__Price__c': 0.6, 'billing360__Lower_Tier__c': 1001.0, 'Name': '1001-2000', 'Product__c': '01t3D0000012VR2QAM', 'billing360__Upper_Tier__c': 2000.0, 'attributes': {'url': '/services/data/v41.0/sobjects/billing360__Tiered_Price__c/a7U3D0000004CUBUA2', 'type': 'billing360__Tiered_Price__c'}}\n",
      "{'billing360__Type__c': 'Tiered', 'billing360__Price__c': 0.5, 'billing360__Lower_Tier__c': 2001.0, 'Name': '2001-5000', 'Product__c': '01t3D0000012VR2QAM', 'billing360__Upper_Tier__c': 5000.0, 'attributes': {'url': '/services/data/v41.0/sobjects/billing360__Tiered_Price__c/a7U3D0000004CUGUA2', 'type': 'billing360__Tiered_Price__c'}}\n",
      "{'billing360__Type__c': 'Tiered', 'billing360__Price__c': 0.75, 'billing360__Lower_Tier__c': 1.0, 'Name': '1-1000', 'Product__c': '01t3D0000012VR2QAM', 'billing360__Upper_Tier__c': 1000.0, 'attributes': {'url': '/services/data/v41.0/sobjects/billing360__Tiered_Price__c/a7U3D0000004CULUA2', 'type': 'billing360__Tiered_Price__c'}}\n"
     ]
    }
   ],
   "source": [
    "for record in records:\n",
    "    print(record)"
   ]
  },
  {
   "cell_type": "code",
   "execution_count": 92,
   "metadata": {
    "collapsed": false
   },
   "outputs": [],
   "source": [
    "r = insert_record(instance_url, 'Account', acccess_token, {'Name' : 'maki mu'})"
   ]
  },
  {
   "cell_type": "code",
   "execution_count": 93,
   "metadata": {
    "collapsed": false
   },
   "outputs": [
    {
     "data": {
      "text/plain": [
       "<Response [201]>"
      ]
     },
     "execution_count": 93,
     "metadata": {},
     "output_type": "execute_result"
    }
   ],
   "source": [
    "r"
   ]
  },
  {
   "cell_type": "code",
   "execution_count": 95,
   "metadata": {
    "collapsed": false
   },
   "outputs": [
    {
     "data": {
      "text/plain": [
       "'{\"id\":\"0013D00000NQn4rQAD\",\"success\":true,\"errors\":[],\"warnings\":[]}'"
      ]
     },
     "execution_count": 95,
     "metadata": {},
     "output_type": "execute_result"
    }
   ],
   "source": []
  },
  {
   "cell_type": "code",
   "execution_count": null,
   "metadata": {
    "collapsed": true
   },
   "outputs": [],
   "source": []
  }
 ],
 "metadata": {
  "kernelspec": {
   "display_name": "Python 3",
   "language": "python",
   "name": "python3"
  },
  "language_info": {
   "codemirror_mode": {
    "name": "ipython",
    "version": 3
   },
   "file_extension": ".py",
   "mimetype": "text/x-python",
   "name": "python",
   "nbconvert_exporter": "python",
   "pygments_lexer": "ipython3",
   "version": "3.5.2"
  },
  "widgets": {
   "state": {},
   "version": "1.1.2"
  }
 },
 "nbformat": 4,
 "nbformat_minor": 2
}
