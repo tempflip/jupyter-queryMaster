{
 "cells": [
  {
   "cell_type": "markdown",
   "metadata": {
    "deletable": true,
    "editable": true
   },
   "source": [
    "# Jupyter QueryMaster"
   ]
  },
  {
   "cell_type": "code",
   "execution_count": 20,
   "metadata": {
    "collapsed": false,
    "deletable": true,
    "editable": true
   },
   "outputs": [],
   "source": [
    "import requests\n",
    "import json"
   ]
  },
  {
   "cell_type": "code",
   "execution_count": 21,
   "metadata": {
    "collapsed": false,
    "deletable": true,
    "editable": true
   },
   "outputs": [],
   "source": [
    "# get the oAuth token\n",
    "\n",
    "OAUTH_LOGIN_URL = 'https://test.salesforce.com/services/oauth2/token'\n",
    "CLIENT_ID = '3MVG9szVa2RxsqBaVMAZFSLdWv5BZvhnb15ChwBZzbVVyb_u9j08M.xnlQ5Ly15mI6KZfVRTsjTQSMsY27rDT'\n",
    "CLIENT_SECRET = '5979639566859185104'\n",
    "USERNAME = 'blackthorn@prismhr.test'\n",
    "PASSWORD = '2P0kf3FLMu22YkFTJCMcH0VXkFgV7C17Eu6dG'"
   ]
  },
  {
   "cell_type": "code",
   "execution_count": 22,
   "metadata": {
    "collapsed": true,
    "deletable": true,
    "editable": true
   },
   "outputs": [],
   "source": [
    "d = {'grant_type' : 'password',\n",
    "    'client_id' : CLIENT_ID,\n",
    "    'client_secret' : CLIENT_SECRET,\n",
    "     'username' : USERNAME,\n",
    "     'password' : PASSWORD\n",
    "    }\n",
    "\n",
    "r = requests.post(OAUTH_LOGIN_URL, \n",
    "                  data = d)\n",
    "r ## if 200 than good"
   ]
  },
  {
   "cell_type": "code",
   "execution_count": 24,
   "metadata": {
    "collapsed": false
   },
   "outputs": [],
   "source": [
    "response_map = json.loads(r.text)\n",
    "acccess_token = response_map['access_token']\n",
    "instance_url = response_map['instance_url']"
   ]
  },
  {
   "cell_type": "code",
   "execution_count": 75,
   "metadata": {
    "collapsed": false
   },
   "outputs": [
    {
     "data": {
      "text/plain": [
       "<Response [200]>"
      ]
     },
     "execution_count": 75,
     "metadata": {},
     "output_type": "execute_result"
    }
   ],
   "source": [
    "Q = \"SELECT Name, Product__c, billing360__Lower_Tier__c, billing360__Upper_Tier__c, billing360__Type__c, billing360__Price__c FROM billing360__Tiered_Price__c WHERE Product__c = '01t3D0000012VR2'\"\n",
    "\n",
    "headers = {'Authorization' : 'Bearer ' + acccess_token,\n",
    "           'Content-Type' : 'application/json'\n",
    "          }\n",
    "\n",
    "r = requests.get(instance_url + '/services/data/v41.0/query/?q=' + Q,\n",
    "                headers = headers)\n",
    "r ## if 200 than good"
   ]
  },
  {
   "cell_type": "code",
   "execution_count": 73,
   "metadata": {
    "collapsed": false
   },
   "outputs": [
    {
     "data": {
      "text/plain": [
       "<Response [200]>"
      ]
     },
     "execution_count": 73,
     "metadata": {},
     "output_type": "execute_result"
    }
   ],
   "source": []
  },
  {
   "cell_type": "code",
   "execution_count": 68,
   "metadata": {
    "collapsed": false
   },
   "outputs": [],
   "source": [
    "soql_response = json.loads(r.text)\n",
    "records = soql_response['records']"
   ]
  },
  {
   "cell_type": "code",
   "execution_count": 69,
   "metadata": {
    "collapsed": false
   },
   "outputs": [
    {
     "name": "stdout",
     "output_type": "stream",
     "text": [
      "Is it all? True , of total 79\n"
     ]
    }
   ],
   "source": [
    "print('Is it all?' , soql_response['done'], ', of total', soql_response['totalSize'])"
   ]
  },
  {
   "cell_type": "code",
   "execution_count": 70,
   "metadata": {
    "collapsed": false
   },
   "outputs": [
    {
     "name": "stdout",
     "output_type": "stream",
     "text": [
      "{'billing360__Type__c': 'Tiered', 'billing360__Price__c': 100.0, 'billing360__Lower_Tier__c': 0.0, 'Name': '0-100000', 'billing360__Upper_Tier__c': 10000.0, 'attributes': {'url': '/services/data/v41.0/sobjects/billing360__Tiered_Price__c/a7U3D0000004CZGUA2', 'type': 'billing360__Tiered_Price__c'}}\n",
      "{'billing360__Type__c': 'Block', 'billing360__Price__c': 1475.0, 'billing360__Lower_Tier__c': 0.0, 'Name': '1', 'billing360__Upper_Tier__c': 101.0, 'attributes': {'url': '/services/data/v41.0/sobjects/billing360__Tiered_Price__c/a7U3D0000004CYSUA2', 'type': 'billing360__Tiered_Price__c'}}\n",
      "{'billing360__Type__c': 'Tiered', 'billing360__Price__c': 30.0, 'billing360__Lower_Tier__c': 1.0, 'Name': '1-10', 'billing360__Upper_Tier__c': 10.0, 'attributes': {'url': '/services/data/v41.0/sobjects/billing360__Tiered_Price__c/a7U3D0000004CUfUAM', 'type': 'billing360__Tiered_Price__c'}}\n",
      "{'billing360__Type__c': 'Tiered', 'billing360__Price__c': 1.49, 'billing360__Lower_Tier__c': 1500.0, 'Name': '1500-5000', 'billing360__Upper_Tier__c': 5000.0, 'attributes': {'url': '/services/data/v41.0/sobjects/billing360__Tiered_Price__c/a7U3D0000004CUaUAM', 'type': 'billing360__Tiered_Price__c'}}\n",
      "{'billing360__Type__c': 'Tiered', 'billing360__Price__c': 1.7, 'billing360__Lower_Tier__c': 500.0, 'Name': '500-1500', 'billing360__Upper_Tier__c': 1500.0, 'attributes': {'url': '/services/data/v41.0/sobjects/billing360__Tiered_Price__c/a7U3D0000004CUVUA2', 'type': 'billing360__Tiered_Price__c'}}\n",
      "{'billing360__Type__c': 'Tiered', 'billing360__Price__c': 2.21, 'billing360__Lower_Tier__c': 1.0, 'Name': '1-500', 'billing360__Upper_Tier__c': 500.0, 'attributes': {'url': '/services/data/v41.0/sobjects/billing360__Tiered_Price__c/a7U3D0000004CUQUA2', 'type': 'billing360__Tiered_Price__c'}}\n",
      "{'billing360__Type__c': 'Tiered', 'billing360__Price__c': 0.1, 'billing360__Lower_Tier__c': 1.0, 'Name': '1-500', 'billing360__Upper_Tier__c': 500.0, 'attributes': {'url': '/services/data/v41.0/sobjects/billing360__Tiered_Price__c/a7U3D0000004CZQUA2', 'type': 'billing360__Tiered_Price__c'}}\n",
      "{'billing360__Type__c': 'Block', 'billing360__Price__c': 1184.0, 'billing360__Lower_Tier__c': 0.0, 'Name': '0', 'billing360__Upper_Tier__c': 1.0, 'attributes': {'url': '/services/data/v41.0/sobjects/billing360__Tiered_Price__c/a7U3D0000004CZBUA2', 'type': 'billing360__Tiered_Price__c'}}\n",
      "{'billing360__Type__c': 'Tiered', 'billing360__Price__c': 1.78, 'billing360__Lower_Tier__c': 501.0, 'Name': '3', 'billing360__Upper_Tier__c': 1501.0, 'attributes': {'url': '/services/data/v41.0/sobjects/billing360__Tiered_Price__c/a7U3D0000004CYcUAM', 'type': 'billing360__Tiered_Price__c'}}\n",
      "{'billing360__Type__c': 'Tiered', 'billing360__Price__c': 0.08, 'billing360__Lower_Tier__c': 501.0, 'Name': '501-1500', 'billing360__Upper_Tier__c': 1500.0, 'attributes': {'url': '/services/data/v41.0/sobjects/billing360__Tiered_Price__c/a7U3D0000004CZVUA2', 'type': 'billing360__Tiered_Price__c'}}\n",
      "{'billing360__Type__c': 'Tiered', 'billing360__Price__c': 2.32, 'billing360__Lower_Tier__c': 101.0, 'Name': '2', 'billing360__Upper_Tier__c': 501.0, 'attributes': {'url': '/services/data/v41.0/sobjects/billing360__Tiered_Price__c/a7U3D0000004CYXUA2', 'type': 'billing360__Tiered_Price__c'}}\n",
      "{'billing360__Type__c': 'Tiered', 'billing360__Price__c': 0.059, 'billing360__Lower_Tier__c': 5001.0, 'Name': '5001-10000', 'billing360__Upper_Tier__c': 10001.0, 'attributes': {'url': '/services/data/v41.0/sobjects/billing360__Tiered_Price__c/a7U3D0000004CoEUAU', 'type': 'billing360__Tiered_Price__c'}}\n",
      "{'billing360__Type__c': 'Tiered', 'billing360__Price__c': 0.1, 'billing360__Lower_Tier__c': 1.0, 'Name': '1-500', 'billing360__Upper_Tier__c': 501.0, 'attributes': {'url': '/services/data/v41.0/sobjects/billing360__Tiered_Price__c/a7U3D0000004CoFUAU', 'type': 'billing360__Tiered_Price__c'}}\n",
      "{'billing360__Type__c': 'Block', 'billing360__Price__c': 368.0, 'billing360__Lower_Tier__c': 0.0, 'Name': 'Base fee', 'billing360__Upper_Tier__c': 1.0, 'attributes': {'url': '/services/data/v41.0/sobjects/billing360__Tiered_Price__c/a7U3D0000004CoGUAU', 'type': 'billing360__Tiered_Price__c'}}\n",
      "{'billing360__Type__c': 'Tiered', 'billing360__Price__c': 0.08, 'billing360__Lower_Tier__c': 501.0, 'Name': '501-1500', 'billing360__Upper_Tier__c': 1501.0, 'attributes': {'url': '/services/data/v41.0/sobjects/billing360__Tiered_Price__c/a7U3D0000004CoHUAU', 'type': 'billing360__Tiered_Price__c'}}\n",
      "{'billing360__Type__c': 'Tiered', 'billing360__Price__c': 0.037, 'billing360__Lower_Tier__c': 100001.0, 'Name': '100001+', 'billing360__Upper_Tier__c': None, 'attributes': {'url': '/services/data/v41.0/sobjects/billing360__Tiered_Price__c/a7U3D0000004CoIUAU', 'type': 'billing360__Tiered_Price__c'}}\n",
      "{'billing360__Type__c': 'Tiered', 'billing360__Price__c': 0.39, 'billing360__Lower_Tier__c': 501.0, 'Name': '501-1500', 'billing360__Upper_Tier__c': 1501.0, 'attributes': {'url': '/services/data/v41.0/sobjects/billing360__Tiered_Price__c/a7U3D0000004CoJUAU', 'type': 'billing360__Tiered_Price__c'}}\n",
      "{'billing360__Type__c': 'Tiered', 'billing360__Price__c': 0.23, 'billing360__Lower_Tier__c': 50001.0, 'Name': '50001-100000', 'billing360__Upper_Tier__c': 100001.0, 'attributes': {'url': '/services/data/v41.0/sobjects/billing360__Tiered_Price__c/a7U3D0000004CoKUAU', 'type': 'billing360__Tiered_Price__c'}}\n",
      "{'billing360__Type__c': 'Tiered', 'billing360__Price__c': 0.25, 'billing360__Lower_Tier__c': 10001.0, 'Name': '10001-25000', 'billing360__Upper_Tier__c': 25001.0, 'attributes': {'url': '/services/data/v41.0/sobjects/billing360__Tiered_Price__c/a7U3D0000004CoLUAU', 'type': 'billing360__Tiered_Price__c'}}\n",
      "{'billing360__Type__c': 'Tiered', 'billing360__Price__c': 0.24, 'billing360__Lower_Tier__c': 25001.0, 'Name': '25001-50000', 'billing360__Upper_Tier__c': 50001.0, 'attributes': {'url': '/services/data/v41.0/sobjects/billing360__Tiered_Price__c/a7U3D0000004CoMUAU', 'type': 'billing360__Tiered_Price__c'}}\n",
      "{'billing360__Type__c': 'Tiered', 'billing360__Price__c': 0.26, 'billing360__Lower_Tier__c': 5001.0, 'Name': '5001-10000', 'billing360__Upper_Tier__c': 10001.0, 'attributes': {'url': '/services/data/v41.0/sobjects/billing360__Tiered_Price__c/a7U3D0000004CoNUAU', 'type': 'billing360__Tiered_Price__c'}}\n",
      "{'billing360__Type__c': 'Tiered', 'billing360__Price__c': 0.33, 'billing360__Lower_Tier__c': 1501.0, 'Name': '1501-5000', 'billing360__Upper_Tier__c': 5001.0, 'attributes': {'url': '/services/data/v41.0/sobjects/billing360__Tiered_Price__c/a7U3D0000004CoOUAU', 'type': 'billing360__Tiered_Price__c'}}\n",
      "{'billing360__Type__c': 'Tiered', 'billing360__Price__c': 0.2, 'billing360__Lower_Tier__c': 100001.0, 'Name': '100001+', 'billing360__Upper_Tier__c': None, 'attributes': {'url': '/services/data/v41.0/sobjects/billing360__Tiered_Price__c/a7U3D0000004CoPUAU', 'type': 'billing360__Tiered_Price__c'}}\n",
      "{'billing360__Type__c': 'Block', 'billing360__Price__c': 541.0, 'billing360__Lower_Tier__c': 0.0, 'Name': 'Block', 'billing360__Upper_Tier__c': 1.0, 'attributes': {'url': '/services/data/v41.0/sobjects/billing360__Tiered_Price__c/a7U3D0000004CoQUAU', 'type': 'billing360__Tiered_Price__c'}}\n",
      "{'billing360__Type__c': 'Tiered', 'billing360__Price__c': 0.39, 'billing360__Lower_Tier__c': 1.0, 'Name': '1-500', 'billing360__Upper_Tier__c': 501.0, 'attributes': {'url': '/services/data/v41.0/sobjects/billing360__Tiered_Price__c/a7U3D0000004CoRUAU', 'type': 'billing360__Tiered_Price__c'}}\n",
      "{'billing360__Type__c': 'Tiered', 'billing360__Price__c': 0.23, 'billing360__Lower_Tier__c': 50001.0, 'Name': '50001-100000', 'billing360__Upper_Tier__c': 100001.0, 'attributes': {'url': '/services/data/v41.0/sobjects/billing360__Tiered_Price__c/a7U3D0000004CoSUAU', 'type': 'billing360__Tiered_Price__c'}}\n",
      "{'billing360__Type__c': 'Tiered', 'billing360__Price__c': 0.39, 'billing360__Lower_Tier__c': 1.0, 'Name': '1-500', 'billing360__Upper_Tier__c': 501.0, 'attributes': {'url': '/services/data/v41.0/sobjects/billing360__Tiered_Price__c/a7U3D0000004CoTUAU', 'type': 'billing360__Tiered_Price__c'}}\n",
      "{'billing360__Type__c': 'Tiered', 'billing360__Price__c': 0.25, 'billing360__Lower_Tier__c': 10001.0, 'Name': '10001-25000', 'billing360__Upper_Tier__c': 25001.0, 'attributes': {'url': '/services/data/v41.0/sobjects/billing360__Tiered_Price__c/a7U3D0000004CoUUAU', 'type': 'billing360__Tiered_Price__c'}}\n",
      "{'billing360__Type__c': 'Tiered', 'billing360__Price__c': 0.33, 'billing360__Lower_Tier__c': 1501.0, 'Name': '1501-5000', 'billing360__Upper_Tier__c': 5001.0, 'attributes': {'url': '/services/data/v41.0/sobjects/billing360__Tiered_Price__c/a7U3D0000004CoVUAU', 'type': 'billing360__Tiered_Price__c'}}\n",
      "{'billing360__Type__c': 'Block', 'billing360__Price__c': 541.0, 'billing360__Lower_Tier__c': 0.0, 'Name': 'Block', 'billing360__Upper_Tier__c': 1.0, 'attributes': {'url': '/services/data/v41.0/sobjects/billing360__Tiered_Price__c/a7U3D0000004CoWUAU', 'type': 'billing360__Tiered_Price__c'}}\n",
      "{'billing360__Type__c': 'Tiered', 'billing360__Price__c': 0.24, 'billing360__Lower_Tier__c': 25001.0, 'Name': '25001-50000', 'billing360__Upper_Tier__c': 50001.0, 'attributes': {'url': '/services/data/v41.0/sobjects/billing360__Tiered_Price__c/a7U3D0000004CoXUAU', 'type': 'billing360__Tiered_Price__c'}}\n",
      "{'billing360__Type__c': 'Tiered', 'billing360__Price__c': 0.39, 'billing360__Lower_Tier__c': 501.0, 'Name': '501-1500', 'billing360__Upper_Tier__c': 1501.0, 'attributes': {'url': '/services/data/v41.0/sobjects/billing360__Tiered_Price__c/a7U3D0000004CoYUAU', 'type': 'billing360__Tiered_Price__c'}}\n",
      "{'billing360__Type__c': 'Tiered', 'billing360__Price__c': 0.26, 'billing360__Lower_Tier__c': 5001.0, 'Name': '5001-10000', 'billing360__Upper_Tier__c': 10001.0, 'attributes': {'url': '/services/data/v41.0/sobjects/billing360__Tiered_Price__c/a7U3D0000004CoZUAU', 'type': 'billing360__Tiered_Price__c'}}\n",
      "{'billing360__Type__c': 'Tiered', 'billing360__Price__c': 0.2, 'billing360__Lower_Tier__c': 100001.0, 'Name': '100001+', 'billing360__Upper_Tier__c': None, 'attributes': {'url': '/services/data/v41.0/sobjects/billing360__Tiered_Price__c/a7U3D0000004CoaUAE', 'type': 'billing360__Tiered_Price__c'}}\n",
      "{'billing360__Type__c': 'Tiered', 'billing360__Price__c': 1.78, 'billing360__Lower_Tier__c': 501.0, 'Name': '501-1500', 'billing360__Upper_Tier__c': 1501.0, 'attributes': {'url': '/services/data/v41.0/sobjects/billing360__Tiered_Price__c/a7U3D0000004CnaUAE', 'type': 'billing360__Tiered_Price__c'}}\n",
      "{'billing360__Type__c': 'Tiered', 'billing360__Price__c': 1.08, 'billing360__Lower_Tier__c': 50001.0, 'Name': '50,001-100000', 'billing360__Upper_Tier__c': 100001.0, 'attributes': {'url': '/services/data/v41.0/sobjects/billing360__Tiered_Price__c/a7U3D0000004CnbUAE', 'type': 'billing360__Tiered_Price__c'}}\n",
      "{'billing360__Type__c': 'Block', 'billing360__Price__c': 1343.0, 'billing360__Lower_Tier__c': 0.0, 'Name': 'Base fee', 'billing360__Upper_Tier__c': 1.0, 'attributes': {'url': '/services/data/v41.0/sobjects/billing360__Tiered_Price__c/a7U3D0000004CncUAE', 'type': 'billing360__Tiered_Price__c'}}\n",
      "{'billing360__Type__c': 'Tiered', 'billing360__Price__c': 2.32, 'billing360__Lower_Tier__c': 1.0, 'Name': '1-500', 'billing360__Upper_Tier__c': 501.0, 'attributes': {'url': '/services/data/v41.0/sobjects/billing360__Tiered_Price__c/a7U3D0000004CndUAE', 'type': 'billing360__Tiered_Price__c'}}\n",
      "{'billing360__Type__c': 'Tiered', 'billing360__Price__c': 1.03, 'billing360__Lower_Tier__c': 100001.0, 'Name': '100001+', 'billing360__Upper_Tier__c': None, 'attributes': {'url': '/services/data/v41.0/sobjects/billing360__Tiered_Price__c/a7U3D0000004CneUAE', 'type': 'billing360__Tiered_Price__c'}}\n",
      "{'billing360__Type__c': 'Tiered', 'billing360__Price__c': 1.41, 'billing360__Lower_Tier__c': 5001.0, 'Name': '5001-10000', 'billing360__Upper_Tier__c': 10001.0, 'attributes': {'url': '/services/data/v41.0/sobjects/billing360__Tiered_Price__c/a7U3D0000004CnfUAE', 'type': 'billing360__Tiered_Price__c'}}\n",
      "{'billing360__Type__c': 'Tiered', 'billing360__Price__c': 1.3, 'billing360__Lower_Tier__c': 10001.0, 'Name': '10001-25000', 'billing360__Upper_Tier__c': 25001.0, 'attributes': {'url': '/services/data/v41.0/sobjects/billing360__Tiered_Price__c/a7U3D0000004CngUAE', 'type': 'billing360__Tiered_Price__c'}}\n",
      "{'billing360__Type__c': 'Tiered', 'billing360__Price__c': 1.57, 'billing360__Lower_Tier__c': 1501.0, 'Name': '1501-5000', 'billing360__Upper_Tier__c': 5001.0, 'attributes': {'url': '/services/data/v41.0/sobjects/billing360__Tiered_Price__c/a7U3D0000004CnhUAE', 'type': 'billing360__Tiered_Price__c'}}\n",
      "{'billing360__Type__c': 'Tiered', 'billing360__Price__c': 1.19, 'billing360__Lower_Tier__c': 25001.0, 'Name': '25001-50000', 'billing360__Upper_Tier__c': 50001.0, 'attributes': {'url': '/services/data/v41.0/sobjects/billing360__Tiered_Price__c/a7U3D0000004CniUAE', 'type': 'billing360__Tiered_Price__c'}}\n",
      "{'billing360__Type__c': 'Tiered', 'billing360__Price__c': 0.2, 'billing360__Lower_Tier__c': 100001.0, 'Name': '100001+', 'billing360__Upper_Tier__c': None, 'attributes': {'url': '/services/data/v41.0/sobjects/billing360__Tiered_Price__c/a7U3D0000004CnjUAE', 'type': 'billing360__Tiered_Price__c'}}\n",
      "{'billing360__Type__c': 'Tiered', 'billing360__Price__c': 0.23, 'billing360__Lower_Tier__c': 50001.0, 'Name': '50001-100000', 'billing360__Upper_Tier__c': 100001.0, 'attributes': {'url': '/services/data/v41.0/sobjects/billing360__Tiered_Price__c/a7U3D0000004CnkUAE', 'type': 'billing360__Tiered_Price__c'}}\n",
      "{'billing360__Type__c': 'Tiered', 'billing360__Price__c': 0.39, 'billing360__Lower_Tier__c': 1.0, 'Name': '1-500', 'billing360__Upper_Tier__c': 501.0, 'attributes': {'url': '/services/data/v41.0/sobjects/billing360__Tiered_Price__c/a7U3D0000004CnlUAE', 'type': 'billing360__Tiered_Price__c'}}\n",
      "{'billing360__Type__c': 'Tiered', 'billing360__Price__c': 0.24, 'billing360__Lower_Tier__c': 25001.0, 'Name': '25001-50000', 'billing360__Upper_Tier__c': 50001.0, 'attributes': {'url': '/services/data/v41.0/sobjects/billing360__Tiered_Price__c/a7U3D0000004CnmUAE', 'type': 'billing360__Tiered_Price__c'}}\n",
      "{'billing360__Type__c': 'Tiered', 'billing360__Price__c': 0.39, 'billing360__Lower_Tier__c': 501.0, 'Name': '501-1500', 'billing360__Upper_Tier__c': 1501.0, 'attributes': {'url': '/services/data/v41.0/sobjects/billing360__Tiered_Price__c/a7U3D0000004CnnUAE', 'type': 'billing360__Tiered_Price__c'}}\n",
      "{'billing360__Type__c': 'Tiered', 'billing360__Price__c': 0.33, 'billing360__Lower_Tier__c': 1501.0, 'Name': '1501-5000', 'billing360__Upper_Tier__c': 5001.0, 'attributes': {'url': '/services/data/v41.0/sobjects/billing360__Tiered_Price__c/a7U3D0000004CnoUAE', 'type': 'billing360__Tiered_Price__c'}}\n",
      "{'billing360__Type__c': 'Tiered', 'billing360__Price__c': 0.26, 'billing360__Lower_Tier__c': 5001.0, 'Name': '5001-10000', 'billing360__Upper_Tier__c': 10001.0, 'attributes': {'url': '/services/data/v41.0/sobjects/billing360__Tiered_Price__c/a7U3D0000004CnpUAE', 'type': 'billing360__Tiered_Price__c'}}\n",
      "{'billing360__Type__c': 'Block', 'billing360__Price__c': 541.0, 'billing360__Lower_Tier__c': 0.0, 'Name': 'Block', 'billing360__Upper_Tier__c': 1.0, 'attributes': {'url': '/services/data/v41.0/sobjects/billing360__Tiered_Price__c/a7U3D0000004CnqUAE', 'type': 'billing360__Tiered_Price__c'}}\n",
      "{'billing360__Type__c': 'Tiered', 'billing360__Price__c': 0.25, 'billing360__Lower_Tier__c': 10001.0, 'Name': '10001-25000', 'billing360__Upper_Tier__c': 25001.0, 'attributes': {'url': '/services/data/v41.0/sobjects/billing360__Tiered_Price__c/a7U3D0000004CnrUAE', 'type': 'billing360__Tiered_Price__c'}}\n",
      "{'billing360__Type__c': 'Tiered', 'billing360__Price__c': 0.05, 'billing360__Lower_Tier__c': 100001.0, 'Name': '100001+', 'billing360__Upper_Tier__c': None, 'attributes': {'url': '/services/data/v41.0/sobjects/billing360__Tiered_Price__c/a7U3D0000004CnsUAE', 'type': 'billing360__Tiered_Price__c'}}\n",
      "{'billing360__Type__c': 'Tiered', 'billing360__Price__c': 0.05, 'billing360__Lower_Tier__c': 50001.0, 'Name': '50001-100000', 'billing360__Upper_Tier__c': 100001.0, 'attributes': {'url': '/services/data/v41.0/sobjects/billing360__Tiered_Price__c/a7U3D0000004CntUAE', 'type': 'billing360__Tiered_Price__c'}}\n",
      "{'billing360__Type__c': 'Tiered', 'billing360__Price__c': 0.05, 'billing360__Lower_Tier__c': 10001.0, 'Name': '10001-25000', 'billing360__Upper_Tier__c': 25001.0, 'attributes': {'url': '/services/data/v41.0/sobjects/billing360__Tiered_Price__c/a7U3D0000004CnuUAE', 'type': 'billing360__Tiered_Price__c'}}\n",
      "{'billing360__Type__c': 'Block', 'billing360__Price__c': 415.0, 'billing360__Lower_Tier__c': 0.0, 'Name': 'Block', 'billing360__Upper_Tier__c': 1.0, 'attributes': {'url': '/services/data/v41.0/sobjects/billing360__Tiered_Price__c/a7U3D0000004CnvUAE', 'type': 'billing360__Tiered_Price__c'}}\n",
      "{'billing360__Type__c': 'Tiered', 'billing360__Price__c': 0.05, 'billing360__Lower_Tier__c': 25001.0, 'Name': '25001-50000', 'billing360__Upper_Tier__c': 50001.0, 'attributes': {'url': '/services/data/v41.0/sobjects/billing360__Tiered_Price__c/a7U3D0000004CnwUAE', 'type': 'billing360__Tiered_Price__c'}}\n",
      "{'billing360__Type__c': 'Tiered', 'billing360__Price__c': 0.05, 'billing360__Lower_Tier__c': 501.0, 'Name': '501-1500', 'billing360__Upper_Tier__c': 1501.0, 'attributes': {'url': '/services/data/v41.0/sobjects/billing360__Tiered_Price__c/a7U3D0000004CnxUAE', 'type': 'billing360__Tiered_Price__c'}}\n",
      "{'billing360__Type__c': 'Tiered', 'billing360__Price__c': 0.05, 'billing360__Lower_Tier__c': 5001.0, 'Name': '5001-10000', 'billing360__Upper_Tier__c': 10001.0, 'attributes': {'url': '/services/data/v41.0/sobjects/billing360__Tiered_Price__c/a7U3D0000004CnyUAE', 'type': 'billing360__Tiered_Price__c'}}\n",
      "{'billing360__Type__c': 'Tiered', 'billing360__Price__c': 0.05, 'billing360__Lower_Tier__c': 1.0, 'Name': '1-500', 'billing360__Upper_Tier__c': 501.0, 'attributes': {'url': '/services/data/v41.0/sobjects/billing360__Tiered_Price__c/a7U3D0000004CnzUAE', 'type': 'billing360__Tiered_Price__c'}}\n",
      "{'billing360__Type__c': 'Tiered', 'billing360__Price__c': 0.05, 'billing360__Lower_Tier__c': 1501.0, 'Name': '1501-5000', 'billing360__Upper_Tier__c': 5001.0, 'attributes': {'url': '/services/data/v41.0/sobjects/billing360__Tiered_Price__c/a7U3D0000004Co0UAE', 'type': 'billing360__Tiered_Price__c'}}\n",
      "{'billing360__Type__c': 'Tiered', 'billing360__Price__c': 0.05, 'billing360__Lower_Tier__c': 25001.0, 'Name': '25001-50000', 'billing360__Upper_Tier__c': 50001.0, 'attributes': {'url': '/services/data/v41.0/sobjects/billing360__Tiered_Price__c/a7U3D0000004Co1UAE', 'type': 'billing360__Tiered_Price__c'}}\n",
      "{'billing360__Type__c': 'Tiered', 'billing360__Price__c': 0.04, 'billing360__Lower_Tier__c': 100001.0, 'Name': '100001+', 'billing360__Upper_Tier__c': None, 'attributes': {'url': '/services/data/v41.0/sobjects/billing360__Tiered_Price__c/a7U3D0000004Co2UAE', 'type': 'billing360__Tiered_Price__c'}}\n",
      "{'billing360__Type__c': 'Tiered', 'billing360__Price__c': 0.05, 'billing360__Lower_Tier__c': 50001.0, 'Name': '50001-100000', 'billing360__Upper_Tier__c': 100001.0, 'attributes': {'url': '/services/data/v41.0/sobjects/billing360__Tiered_Price__c/a7U3D0000004Co3UAE', 'type': 'billing360__Tiered_Price__c'}}\n",
      "{'billing360__Type__c': 'Tiered', 'billing360__Price__c': 0.08, 'billing360__Lower_Tier__c': 1.0, 'Name': '1-500', 'billing360__Upper_Tier__c': 501.0, 'attributes': {'url': '/services/data/v41.0/sobjects/billing360__Tiered_Price__c/a7U3D0000004Co4UAE', 'type': 'billing360__Tiered_Price__c'}}\n",
      "{'billing360__Type__c': 'Tiered', 'billing360__Price__c': 0.05, 'billing360__Lower_Tier__c': 10001.0, 'Name': '10001-25000', 'billing360__Upper_Tier__c': 25001.0, 'attributes': {'url': '/services/data/v41.0/sobjects/billing360__Tiered_Price__c/a7U3D0000004Co5UAE', 'type': 'billing360__Tiered_Price__c'}}\n",
      "{'billing360__Type__c': 'Tiered', 'billing360__Price__c': 0.08, 'billing360__Lower_Tier__c': 501.0, 'Name': '501-1500', 'billing360__Upper_Tier__c': 1501.0, 'attributes': {'url': '/services/data/v41.0/sobjects/billing360__Tiered_Price__c/a7U3D0000004Co6UAE', 'type': 'billing360__Tiered_Price__c'}}\n",
      "{'billing360__Type__c': 'Tiered', 'billing360__Price__c': 0.05, 'billing360__Lower_Tier__c': 5001.0, 'Name': '5001-10000', 'billing360__Upper_Tier__c': 10001.0, 'attributes': {'url': '/services/data/v41.0/sobjects/billing360__Tiered_Price__c/a7U3D0000004Co7UAE', 'type': 'billing360__Tiered_Price__c'}}\n",
      "{'billing360__Type__c': 'Tiered', 'billing360__Price__c': 0.07, 'billing360__Lower_Tier__c': 1501.0, 'Name': '1501-5000', 'billing360__Upper_Tier__c': 5001.0, 'attributes': {'url': '/services/data/v41.0/sobjects/billing360__Tiered_Price__c/a7U3D0000004Co8UAE', 'type': 'billing360__Tiered_Price__c'}}\n",
      "{'billing360__Type__c': 'Block', 'billing360__Price__c': 108.0, 'billing360__Lower_Tier__c': 0.0, 'Name': 'Block', 'billing360__Upper_Tier__c': 1.0, 'attributes': {'url': '/services/data/v41.0/sobjects/billing360__Tiered_Price__c/a7U3D0000004Co9UAE', 'type': 'billing360__Tiered_Price__c'}}\n",
      "{'billing360__Type__c': 'Tiered', 'billing360__Price__c': 0.037, 'billing360__Lower_Tier__c': 50001.0, 'Name': '50,001-100000', 'billing360__Upper_Tier__c': 100001.0, 'attributes': {'url': '/services/data/v41.0/sobjects/billing360__Tiered_Price__c/a7U3D0000004CoAUAU', 'type': 'billing360__Tiered_Price__c'}}\n",
      "{'billing360__Type__c': 'Tiered', 'billing360__Price__c': 0.037, 'billing360__Lower_Tier__c': 25001.0, 'Name': '25001-50000', 'billing360__Upper_Tier__c': 50001.0, 'attributes': {'url': '/services/data/v41.0/sobjects/billing360__Tiered_Price__c/a7U3D0000004CoBUAU', 'type': 'billing360__Tiered_Price__c'}}\n",
      "{'billing360__Type__c': 'Tiered', 'billing360__Price__c': 0.048, 'billing360__Lower_Tier__c': 10001.0, 'Name': '10001-25000', 'billing360__Upper_Tier__c': 25001.0, 'attributes': {'url': '/services/data/v41.0/sobjects/billing360__Tiered_Price__c/a7U3D0000004CoCUAU', 'type': 'billing360__Tiered_Price__c'}}\n",
      "{'billing360__Type__c': 'Tiered', 'billing360__Price__c': 0.07, 'billing360__Lower_Tier__c': 1501.0, 'Name': '1501-5000', 'billing360__Upper_Tier__c': 5001.0, 'attributes': {'url': '/services/data/v41.0/sobjects/billing360__Tiered_Price__c/a7U3D0000004CoDUAU', 'type': 'billing360__Tiered_Price__c'}}\n",
      "{'billing360__Type__c': 'Block', 'billing360__Price__c': 368.0, 'billing360__Lower_Tier__c': 0.0, 'Name': 'Base Fee', 'billing360__Upper_Tier__c': 0.0, 'attributes': {'url': '/services/data/v41.0/sobjects/billing360__Tiered_Price__c/a7U3D0000004CZLUA2', 'type': 'billing360__Tiered_Price__c'}}\n",
      "{'billing360__Type__c': 'Tiered', 'billing360__Price__c': 0.75, 'billing360__Lower_Tier__c': 1.0, 'Name': '1-1000', 'billing360__Upper_Tier__c': 1000.0, 'attributes': {'url': '/services/data/v41.0/sobjects/billing360__Tiered_Price__c/a7U3D0000004CULUA2', 'type': 'billing360__Tiered_Price__c'}}\n",
      "{'billing360__Type__c': 'Tiered', 'billing360__Price__c': 0.6, 'billing360__Lower_Tier__c': 1001.0, 'Name': '1001-2000', 'billing360__Upper_Tier__c': 2000.0, 'attributes': {'url': '/services/data/v41.0/sobjects/billing360__Tiered_Price__c/a7U3D0000004CUBUA2', 'type': 'billing360__Tiered_Price__c'}}\n",
      "{'billing360__Type__c': 'Tiered', 'billing360__Price__c': 0.5, 'billing360__Lower_Tier__c': 2001.0, 'Name': '2001-5000', 'billing360__Upper_Tier__c': 5000.0, 'attributes': {'url': '/services/data/v41.0/sobjects/billing360__Tiered_Price__c/a7U3D0000004CUGUA2', 'type': 'billing360__Tiered_Price__c'}}\n",
      "{'billing360__Type__c': 'Tiered', 'billing360__Price__c': 25.0, 'billing360__Lower_Tier__c': 11.0, 'Name': '2-20', 'billing360__Upper_Tier__c': 20.0, 'attributes': {'url': '/services/data/v41.0/sobjects/billing360__Tiered_Price__c/a7U3D0000004CUkUAM', 'type': 'billing360__Tiered_Price__c'}}\n"
     ]
    }
   ],
   "source": [
    "for record in records:\n",
    "    print(record)"
   ]
  },
  {
   "cell_type": "code",
   "execution_count": null,
   "metadata": {
    "collapsed": true
   },
   "outputs": [],
   "source": []
  }
 ],
 "metadata": {
  "kernelspec": {
   "display_name": "Python 3",
   "language": "python",
   "name": "python3"
  },
  "language_info": {
   "codemirror_mode": {
    "name": "ipython",
    "version": 3
   },
   "file_extension": ".py",
   "mimetype": "text/x-python",
   "name": "python",
   "nbconvert_exporter": "python",
   "pygments_lexer": "ipython3",
   "version": "3.5.2"
  },
  "widgets": {
   "state": {},
   "version": "1.1.2"
  }
 },
 "nbformat": 4,
 "nbformat_minor": 2
}
